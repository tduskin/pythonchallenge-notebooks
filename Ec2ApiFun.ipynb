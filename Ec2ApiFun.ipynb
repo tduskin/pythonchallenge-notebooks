{
 "metadata": {
  "name": ""
 },
 "nbformat": 3,
 "nbformat_minor": 0,
 "worksheets": [
  {
   "cells": [
    {
     "cell_type": "code",
     "collapsed": false,
     "input": [
      "from boto import ec2"
     ],
     "language": "python",
     "metadata": {},
     "outputs": [],
     "prompt_number": 2
    },
    {
     "cell_type": "code",
     "collapsed": false,
     "input": [
      "conn = ec2.connect_to_region(region_name='us-east-1', aws_access_key_id='***REMOVED***', aws_secret_access_key='***REMOVED***')"
     ],
     "language": "python",
     "metadata": {},
     "outputs": [],
     "prompt_number": 5
    },
    {
     "cell_type": "code",
     "collapsed": false,
     "input": [
      "instances = conn.get_only_instances(filters={'instance-state-name': 'running', 'tag:Name': 'RestBackendMDLZ*'})\n"
     ],
     "language": "python",
     "metadata": {},
     "outputs": [],
     "prompt_number": 20
    },
    {
     "cell_type": "code",
     "collapsed": false,
     "input": [
      "len(instances)"
     ],
     "language": "python",
     "metadata": {},
     "outputs": [
      {
       "metadata": {},
       "output_type": "pyout",
       "prompt_number": 21,
       "text": [
        "25"
       ]
      }
     ],
     "prompt_number": 21
    },
    {
     "cell_type": "code",
     "collapsed": false,
     "input": [
      "for instance in instances:\n",
      "    instance_id = instance.id\n",
      "    instance_ip = instance.ip_address\n",
      "    \n",
      "    record = {\"id\": instance_id, \"ip_addr\": instance_ip}\n",
      "    print record"
     ],
     "language": "python",
     "metadata": {},
     "outputs": [
      {
       "output_type": "stream",
       "stream": "stdout",
       "text": [
        "{'ip_addr': u'23.22.174.189', 'id': u'i-473e8614'}\n",
        "{'ip_addr': u'54.226.104.21', 'id': u'i-71952e22'}\n",
        "{'ip_addr': u'54.197.94.45', 'id': u'i-03861550'}\n",
        "{'ip_addr': u'54.87.175.34', 'id': u'i-02861551'}\n",
        "{'ip_addr': u'54.234.155.230', 'id': u'i-01861552'}\n",
        "{'ip_addr': u'23.20.216.174', 'id': u'i-0b861558'}\n",
        "{'ip_addr': u'50.19.4.90', 'id': u'i-0a861559'}\n",
        "{'ip_addr': u'23.22.15.13', 'id': u'i-0986155a'}\n",
        "{'ip_addr': u'54.83.104.100', 'id': u'i-0886155b'}\n",
        "{'ip_addr': u'54.226.121.114', 'id': u'i-0f86155c'}\n",
        "{'ip_addr': u'23.22.97.211', 'id': u'i-0e86155d'}\n",
        "{'ip_addr': u'54.83.107.2', 'id': u'i-0d86155e'}\n",
        "{'ip_addr': u'54.81.204.246', 'id': u'i-0c86155f'}\n",
        "{'ip_addr': u'54.83.253.177', 'id': u'i-37861564'}\n",
        "{'ip_addr': u'54.83.242.152', 'id': u'i-36861565'}\n",
        "{'ip_addr': u'107.22.70.18', 'id': u'i-0e049b5d'}\n",
        "{'ip_addr': u'23.20.210.31', 'id': u'i-729bf721'}\n",
        "{'ip_addr': u'54.198.16.163', 'id': u'i-91f582c2'}\n",
        "{'ip_addr': u'54.80.48.112', 'id': u'i-788bfc2b'}\n",
        "{'ip_addr': u'54.226.81.157', 'id': u'i-56106b05'}\n",
        "{'ip_addr': u'54.197.105.48', 'id': u'i-cf6f169c'}\n",
        "{'ip_addr': u'54.225.58.68', 'id': u'i-cc6f169f'}\n",
        "{'ip_addr': u'107.20.48.170', 'id': u'i-f9661faa'}\n",
        "{'ip_addr': u'54.197.176.250', 'id': u'i-beabd2ed'}\n",
        "{'ip_addr': u'50.17.31.121', 'id': u'i-14077c47'}\n"
       ]
      }
     ],
     "prompt_number": 23
    },
    {
     "cell_type": "code",
     "collapsed": false,
     "input": [
      "instance.tags"
     ],
     "language": "python",
     "metadata": {},
     "outputs": [
      {
       "metadata": {},
       "output_type": "pyout",
       "prompt_number": 18,
       "text": [
        "{u'Name': u'RestBackendMDLZ8'}"
       ]
      }
     ],
     "prompt_number": 18
    },
    {
     "cell_type": "code",
     "collapsed": false,
     "input": [],
     "language": "python",
     "metadata": {},
     "outputs": []
    }
   ],
   "metadata": {}
  }
 ]
}