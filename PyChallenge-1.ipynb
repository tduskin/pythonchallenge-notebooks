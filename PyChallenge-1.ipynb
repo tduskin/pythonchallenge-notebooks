{
 "metadata": {
  "name": ""
 },
 "nbformat": 3,
 "nbformat_minor": 0,
 "worksheets": [
  {
   "cells": [
    {
     "cell_type": "markdown",
     "metadata": {},
     "source": [
      "#Python Challenge - Puzzle 1\n",
      "+  Puzzle: http://www.pythonchallenge.com/pc/def/map.html\n",
      "+  Solution: http://www.pythonchallenge.com/pcc/def/ocr.html\n",
      "http://wiki.pythonchallenge.com/index.php?title=Level1:Main_Page"
     ]
    },
    {
     "cell_type": "code",
     "collapsed": false,
     "input": [
      "i = ord('K') - ord('M')\n",
      "j = ord('O') - ord('Q')\n",
      "k = ord('E') - ord('G')\n",
      "print i, j, k"
     ],
     "language": "python",
     "metadata": {},
     "outputs": [
      {
       "output_type": "stream",
       "stream": "stdout",
       "text": [
        "-2 -2 -2\n"
       ]
      }
     ],
     "prompt_number": 1
    },
    {
     "cell_type": "code",
     "collapsed": false,
     "input": [
      "import string\n",
      "print \"%s - %s\" % (string.lowercase, len(string.lowercase))"
     ],
     "language": "python",
     "metadata": {},
     "outputs": [
      {
       "output_type": "stream",
       "stream": "stdout",
       "text": [
        "abcdefghijklmnopqrstuvwxyz - 26\n"
       ]
      }
     ],
     "prompt_number": 2
    },
    {
     "cell_type": "code",
     "collapsed": false,
     "input": [
      "message = \"\"\"g fmnc wms bgblr rpylqjyrc gr zw fylb. rfyrq ufyr amknsrcpq ypc \n",
      "dmp. bmgle gr gl zw fylb gq glcddgagclr ylb rfyr'q ufw rfgq rcvr \n",
      "gq qm jmle. sqgle qrpgle.kyicrpylq() gq pcamkkclbcb. lmu ynnjw ml \n",
      "rfc spj.\"\"\""
     ],
     "language": "python",
     "metadata": {},
     "outputs": [],
     "prompt_number": 3
    },
    {
     "cell_type": "code",
     "collapsed": false,
     "input": [
      "message.strip()"
     ],
     "language": "python",
     "metadata": {},
     "outputs": [
      {
       "metadata": {},
       "output_type": "pyout",
       "prompt_number": 4,
       "text": [
        "\"g fmnc wms bgblr rpylqjyrc gr zw fylb. rfyrq ufyr amknsrcpq ypc \\ndmp. bmgle gr gl zw fylb gq glcddgagclr ylb rfyr'q ufw rfgq rcvr \\ngq qm jmle. sqgle qrpgle.kyicrpylq() gq pcamkkclbcb. lmu ynnjw ml \\nrfc spj.\""
       ]
      }
     ],
     "prompt_number": 4
    },
    {
     "cell_type": "code",
     "collapsed": false,
     "input": [
      "def shifty(letter):\n",
      "    if letter in string.lowercase:\n",
      "        idx = string.find(string.lowercase,letter)\n",
      "        newidx = (idx-i) % len(string.lowercase)\n",
      "        return string.lowercase[newidx]\n",
      "    else:\n",
      "        return letter"
     ],
     "language": "python",
     "metadata": {},
     "outputs": [],
     "prompt_number": 5
    },
    {
     "cell_type": "code",
     "collapsed": false,
     "input": [
      "for x in range(10):\n",
      "    print shifty(message[x])"
     ],
     "language": "python",
     "metadata": {},
     "outputs": [
      {
       "output_type": "stream",
       "stream": "stdout",
       "text": [
        "i\n",
        " \n",
        "h\n",
        "o\n",
        "p\n",
        "e\n",
        " \n",
        "y\n",
        "o\n",
        "u\n"
       ]
      }
     ],
     "prompt_number": 6
    },
    {
     "cell_type": "code",
     "collapsed": false,
     "input": [
      "def translate_thing(thing):\n",
      "    new_thing = map(shifty, thing)\n",
      "    return ''.join(new_thing)"
     ],
     "language": "python",
     "metadata": {},
     "outputs": [],
     "prompt_number": 7
    },
    {
     "cell_type": "code",
     "collapsed": false,
     "input": [
      "print translate_thing(message)"
     ],
     "language": "python",
     "metadata": {},
     "outputs": [
      {
       "output_type": "stream",
       "stream": "stdout",
       "text": [
        "i hope you didnt translate it by hand. thats what computers are \n",
        "for. doing it in by hand is inefficient and that's why this text \n",
        "is so long. using string.maketrans() is recommended. now apply on \n",
        "the url.\n"
       ]
      }
     ],
     "prompt_number": 8
    },
    {
     "cell_type": "code",
     "collapsed": false,
     "input": [
      "print translate_thing('http://www.pythonchallenge.com/pc/def/map.html')"
     ],
     "language": "python",
     "metadata": {},
     "outputs": [
      {
       "output_type": "stream",
       "stream": "stdout",
       "text": [
        "jvvr://yyy.ravjqpejcnngpig.eqo/re/fgh/ocr.jvon\n"
       ]
      }
     ],
     "prompt_number": 9
    },
    {
     "cell_type": "code",
     "collapsed": false,
     "input": [
      "help(string.maketrans)"
     ],
     "language": "python",
     "metadata": {},
     "outputs": [
      {
       "output_type": "stream",
       "stream": "stdout",
       "text": [
        "Help on built-in function maketrans in module strop:\n",
        "\n",
        "maketrans(...)\n",
        "    maketrans(frm, to) -> string\n",
        "    \n",
        "    Return a translation table (a string of 256 bytes long)\n",
        "    suitable for use in string.translate.  The strings frm and to\n",
        "    must be of the same length.\n",
        "\n"
       ]
      }
     ],
     "prompt_number": 10
    },
    {
     "cell_type": "code",
     "collapsed": false,
     "input": [
      "help(string.translate)"
     ],
     "language": "python",
     "metadata": {},
     "outputs": [
      {
       "output_type": "stream",
       "stream": "stdout",
       "text": [
        "Help on function translate in module string:\n",
        "\n",
        "translate(s, table, deletions='')\n",
        "    translate(s,table [,deletions]) -> string\n",
        "    \n",
        "    Return a copy of the string s, where all characters occurring\n",
        "    in the optional argument deletions are removed, and the\n",
        "    remaining characters have been mapped through the given\n",
        "    translation table, which must be a string of length 256.  The\n",
        "    deletions argument is not allowed for Unicode strings.\n",
        "\n"
       ]
      }
     ],
     "prompt_number": 11
    },
    {
     "cell_type": "code",
     "collapsed": false,
     "input": [
      "shifted = translate_thing(string.lowercase)\n",
      "shifted"
     ],
     "language": "python",
     "metadata": {},
     "outputs": [
      {
       "metadata": {},
       "output_type": "pyout",
       "prompt_number": 12,
       "text": [
        "'cdefghijklmnopqrstuvwxyzab'"
       ]
      }
     ],
     "prompt_number": 12
    },
    {
     "cell_type": "code",
     "collapsed": false,
     "input": [
      "translator = string.maketrans(string.lowercase, shifted)\n",
      "string.translate(message, translator)"
     ],
     "language": "python",
     "metadata": {},
     "outputs": [
      {
       "metadata": {},
       "output_type": "pyout",
       "prompt_number": 13,
       "text": [
        "\"i hope you didnt translate it by hand. thats what computers are \\nfor. doing it in by hand is inefficient and that's why this text \\nis so long. using string.maketrans() is recommended. now apply on \\nthe url.\""
       ]
      }
     ],
     "prompt_number": 13
    },
    {
     "cell_type": "code",
     "collapsed": false,
     "input": [],
     "language": "python",
     "metadata": {},
     "outputs": [],
     "prompt_number": 13
    }
   ],
   "metadata": {}
  }
 ]
}