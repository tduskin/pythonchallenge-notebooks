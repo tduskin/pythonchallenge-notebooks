{
 "metadata": {
  "name": ""
 },
 "nbformat": 3,
 "nbformat_minor": 0,
 "worksheets": [
  {
   "cells": [
    {
     "cell_type": "markdown",
     "metadata": {},
     "source": [
      "# InspectorGadget\n",
      "#### a class to parse HTML documents and find stuff"
     ]
    },
    {
     "cell_type": "code",
     "collapsed": false,
     "input": [
      "import urllib2\n",
      "from HTMLParser import HTMLParser"
     ],
     "language": "python",
     "metadata": {},
     "outputs": [],
     "prompt_number": 2
    },
    {
     "cell_type": "code",
     "collapsed": false,
     "input": [
      "class InspectorGadget(HTMLParser, object):\n",
      "    commentlist = []\n",
      "    \n",
      "    taglist = []\n",
      "    \n",
      "    def __init__(self, doc=None, url=None):\n",
      "        super(InspectorGadget, self).__init__()\n",
      "        if url:\n",
      "            page = urllib2.urlopen(url)\n",
      "            doc = page.read()\n",
      "        if doc:\n",
      "            super(InspectorGadget, self).feed(doc)\n",
      "        else:\n",
      "            return\n",
      "    \n",
      "    def handle_comment(self, data):\n",
      "        self.save_comment(data)\n",
      "        print \"Found %s comment(s)!\" % len(self.commentlist)\n",
      "        \n",
      "    def handle_starttag(self, tag, attrs):\n",
      "        self.save_tag(tag, attrs)\n",
      "        print \"Found tag: %s\" % tag\n",
      "        \n",
      "    def save_comment(self, data):\n",
      "        self.commentlist.append(data)\n",
      "        return\n",
      "    \n",
      "    def save_tag(self, tag, attrs):\n",
      "        self.taglist.append({tag: attrs})\n",
      "        \n",
      "    def get_comments(self):\n",
      "        return self.commentlist\n",
      "    \n",
      "    def get_tags(self):\n",
      "        return self.taglist"
     ],
     "language": "python",
     "metadata": {},
     "outputs": []
    }
   ],
   "metadata": {}
  }
 ]
}